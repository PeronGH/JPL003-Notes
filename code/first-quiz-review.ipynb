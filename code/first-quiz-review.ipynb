{
 "cells": [
  {
   "cell_type": "code",
   "execution_count": null,
   "metadata": {},
   "outputs": [],
   "source": [
    "from jaconv import kana2alphabet"
   ]
  },
  {
   "attachments": {},
   "cell_type": "markdown",
   "metadata": {},
   "source": [
    "# First Quiz Review\n",
    "\n",
    "## Verbs\n",
    "\n",
    "### Grouping"
   ]
  },
  {
   "cell_type": "code",
   "execution_count": null,
   "metadata": {},
   "outputs": [],
   "source": [
    "def classify_verb_group(verb_plain_form: str) -> int:\n",
    "    # if no tailing る, then it's in the verb group 1\n",
    "    if not verb_plain_form.endswith('る'):\n",
    "        return 1\n",
    "    # then check if it's an exception\n",
    "    if verb_plain_form in ['かえる', 'きる', 'しる', 'はいる', 'はしる']:\n",
    "        return 1\n",
    "    # then check if it is くる or ends with する, if so, it's in the verb group 3\n",
    "    if verb_plain_form == 'くる' or verb_plain_form.endswith('する'):\n",
    "        return 3\n",
    "    # then if it ends with ~e-る or ~i-る, it's in the verb group 2\n",
    "    if kana2alphabet(verb_plain_form)[-3:] in ['eru', 'iru']:\n",
    "        return 2\n",
    "    # otherwise it's in the verb group 1\n",
    "    return 1\n"
   ]
  }
 ],
 "metadata": {
  "kernelspec": {
   "display_name": "Python 3",
   "language": "python",
   "name": "python3"
  },
  "language_info": {
   "name": "python",
   "version": "3.11.3"
  },
  "orig_nbformat": 4
 },
 "nbformat": 4,
 "nbformat_minor": 2
}
